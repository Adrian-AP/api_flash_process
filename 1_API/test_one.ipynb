{
 "cells": [
  {
   "cell_type": "code",
   "execution_count": 1,
   "metadata": {},
   "outputs": [],
   "source": [
    "# Libraries\n",
    "\n",
    "from flask import Flask, request, jsonify\n",
    "import warnings\n",
    "\n",
    "warnings.filterwarnings(\"ignore\")"
   ]
  },
  {
   "cell_type": "code",
   "execution_count": 2,
   "metadata": {},
   "outputs": [],
   "source": [
    "# First instance\n",
    "\n",
    "app = Flask(__name__)"
   ]
  },
  {
   "cell_type": "code",
   "execution_count": 3,
   "metadata": {},
   "outputs": [],
   "source": [
    "# functions\n",
    "\n",
    "# Defino la ruta\n",
    "@app.route('/hola', methods=['POST'])\n",
    "def hello_world():\n",
    "    salida = 'Hola!'\n",
    "    return jsonify(salida)\n",
    "\n",
    "@app.route('/hola_caracola', methods=['POST'])\n",
    "def hello_titanic():\n",
    "    salida = 'Hola Caracola'\n",
    "    return jsonify(salida)\n",
    "\n",
    "@app.route('/sumo/<int:a>/<int:b>', methods=['POST'])\n",
    "def sumo(a, b):\n",
    "    salida = a + b\n",
    "    return jsonify(salida)\n",
    "\n",
    "\n",
    "@app.route('/sumo_bis', methods=['POST'])\n",
    "def sumo_bis():\n",
    "    data = request.get_json()\n",
    "    a = data['a']\n",
    "    b = data['b']\n",
    "    salida = a + b\n",
    "    return jsonify(salida)"
   ]
  },
  {
   "cell_type": "code",
   "execution_count": 4,
   "metadata": {},
   "outputs": [
    {
     "name": "stdout",
     "output_type": "stream",
     "text": [
      " * Serving Flask app '__main__'\n",
      " * Debug mode: off\n"
     ]
    },
    {
     "name": "stderr",
     "output_type": "stream",
     "text": [
      "WARNING: This is a development server. Do not use it in a production deployment. Use a production WSGI server instead.\n",
      " * Running on http://127.0.0.1:8050\n",
      "Press CTRL+C to quit\n",
      "127.0.0.1 - - [17/Aug/2023 09:22:06] \"POST /hola HTTP/1.1\" 200 -\n",
      "127.0.0.1 - - [17/Aug/2023 09:22:21] \"POST /hola_caracola HTTP/1.1\" 200 -\n",
      "127.0.0.1 - - [17/Aug/2023 09:22:37] \"POST /sumo/3/4 HTTP/1.1\" 200 -\n",
      "127.0.0.1 - - [17/Aug/2023 09:22:54] \"POST /sumo_bis HTTP/1.1\" 200 -\n"
     ]
    }
   ],
   "source": [
    "# Service \n",
    "if __name__ == '__main__':\n",
    "    app.run(port=8050)"
   ]
  }
 ],
 "metadata": {
  "kernelspec": {
   "display_name": "base",
   "language": "python",
   "name": "python3"
  },
  "language_info": {
   "codemirror_mode": {
    "name": "ipython",
    "version": 3
   },
   "file_extension": ".py",
   "mimetype": "text/x-python",
   "name": "python",
   "nbconvert_exporter": "python",
   "pygments_lexer": "ipython3",
   "version": "3.10.9"
  },
  "orig_nbformat": 4
 },
 "nbformat": 4,
 "nbformat_minor": 2
}
